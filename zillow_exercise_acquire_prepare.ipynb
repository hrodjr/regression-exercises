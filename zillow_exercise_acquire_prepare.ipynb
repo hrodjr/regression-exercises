{
 "cells": [
  {
   "cell_type": "code",
   "execution_count": null,
   "id": "eb106f15",
   "metadata": {},
   "outputs": [],
   "source": [
    "#In these exercises, you will complete the first step toward the above goal: acquire and prepare the necessary \n",
    "#Zillow data from the zillow database in the Codeup database server."
   ]
  },
  {
   "cell_type": "code",
   "execution_count": 1,
   "id": "ec5d1c6c",
   "metadata": {},
   "outputs": [],
   "source": [
    "import warnings\n",
    "warnings.filterwarnings(\"ignore\")\n",
    "\n",
    "import pandas as pd\n",
    "import matplotlib.pyplot as plt\n",
    "import seaborn as sns\n",
    "import numpy as np\n",
    "import wrangle #acquire and prepare module"
   ]
  },
  {
   "cell_type": "code",
   "execution_count": 2,
   "id": "7939dbdb",
   "metadata": {},
   "outputs": [
    {
     "data": {
      "text/html": [
       "<div>\n",
       "<style scoped>\n",
       "    .dataframe tbody tr th:only-of-type {\n",
       "        vertical-align: middle;\n",
       "    }\n",
       "\n",
       "    .dataframe tbody tr th {\n",
       "        vertical-align: top;\n",
       "    }\n",
       "\n",
       "    .dataframe thead th {\n",
       "        text-align: right;\n",
       "    }\n",
       "</style>\n",
       "<table border=\"1\" class=\"dataframe\">\n",
       "  <thead>\n",
       "    <tr style=\"text-align: right;\">\n",
       "      <th></th>\n",
       "      <th>bedroomcnt</th>\n",
       "      <th>bathroomcnt</th>\n",
       "      <th>calculatedfinishedsquarefeet</th>\n",
       "      <th>taxvaluedollarcnt</th>\n",
       "      <th>yearbuilt</th>\n",
       "      <th>taxamount</th>\n",
       "      <th>fips</th>\n",
       "    </tr>\n",
       "  </thead>\n",
       "  <tbody>\n",
       "    <tr>\n",
       "      <th>0</th>\n",
       "      <td>0.0</td>\n",
       "      <td>0.0</td>\n",
       "      <td>NaN</td>\n",
       "      <td>27516.0</td>\n",
       "      <td>NaN</td>\n",
       "      <td>NaN</td>\n",
       "      <td>6037.0</td>\n",
       "    </tr>\n",
       "    <tr>\n",
       "      <th>1</th>\n",
       "      <td>0.0</td>\n",
       "      <td>0.0</td>\n",
       "      <td>NaN</td>\n",
       "      <td>10.0</td>\n",
       "      <td>NaN</td>\n",
       "      <td>NaN</td>\n",
       "      <td>6037.0</td>\n",
       "    </tr>\n",
       "    <tr>\n",
       "      <th>2</th>\n",
       "      <td>0.0</td>\n",
       "      <td>0.0</td>\n",
       "      <td>NaN</td>\n",
       "      <td>10.0</td>\n",
       "      <td>NaN</td>\n",
       "      <td>NaN</td>\n",
       "      <td>6037.0</td>\n",
       "    </tr>\n",
       "    <tr>\n",
       "      <th>3</th>\n",
       "      <td>0.0</td>\n",
       "      <td>0.0</td>\n",
       "      <td>NaN</td>\n",
       "      <td>2108.0</td>\n",
       "      <td>NaN</td>\n",
       "      <td>174.21</td>\n",
       "      <td>6037.0</td>\n",
       "    </tr>\n",
       "    <tr>\n",
       "      <th>4</th>\n",
       "      <td>4.0</td>\n",
       "      <td>2.0</td>\n",
       "      <td>3633.0</td>\n",
       "      <td>296425.0</td>\n",
       "      <td>2005.0</td>\n",
       "      <td>6941.39</td>\n",
       "      <td>6037.0</td>\n",
       "    </tr>\n",
       "  </tbody>\n",
       "</table>\n",
       "</div>"
      ],
      "text/plain": [
       "   bedroomcnt  bathroomcnt  calculatedfinishedsquarefeet  taxvaluedollarcnt  \\\n",
       "0         0.0          0.0                           NaN            27516.0   \n",
       "1         0.0          0.0                           NaN               10.0   \n",
       "2         0.0          0.0                           NaN               10.0   \n",
       "3         0.0          0.0                           NaN             2108.0   \n",
       "4         4.0          2.0                        3633.0           296425.0   \n",
       "\n",
       "   yearbuilt  taxamount    fips  \n",
       "0        NaN        NaN  6037.0  \n",
       "1        NaN        NaN  6037.0  \n",
       "2        NaN        NaN  6037.0  \n",
       "3        NaN     174.21  6037.0  \n",
       "4     2005.0    6941.39  6037.0  "
      ]
     },
     "execution_count": 2,
     "metadata": {},
     "output_type": "execute_result"
    }
   ],
   "source": [
    "df = wrangle.get_zillow_data()\n",
    "df.head()"
   ]
  },
  {
   "cell_type": "code",
   "execution_count": null,
   "id": "550c5566",
   "metadata": {},
   "outputs": [],
   "source": [
    "df.shape"
   ]
  },
  {
   "cell_type": "code",
   "execution_count": null,
   "id": "bd40ac1e",
   "metadata": {},
   "outputs": [],
   "source": [
    "df.describe().T"
   ]
  },
  {
   "cell_type": "code",
   "execution_count": null,
   "id": "4a563108",
   "metadata": {},
   "outputs": [],
   "source": [
    "#missing or null values in all variables except for 'fips'"
   ]
  },
  {
   "cell_type": "code",
   "execution_count": null,
   "id": "1060d8a3",
   "metadata": {},
   "outputs": [],
   "source": [
    "df.taxvaluedollarcnt.mode()"
   ]
  },
  {
   "cell_type": "code",
   "execution_count": null,
   "id": "53d22f3c",
   "metadata": {},
   "outputs": [],
   "source": [
    "df.info()"
   ]
  },
  {
   "cell_type": "code",
   "execution_count": null,
   "id": "92e91ab1",
   "metadata": {},
   "outputs": [],
   "source": [
    "df.isnull().sum()"
   ]
  },
  {
   "cell_type": "code",
   "execution_count": null,
   "id": "b60839dd",
   "metadata": {},
   "outputs": [],
   "source": [
    "#bed and bathroom counts I will fill in with the mode (whole number). \n",
    "#taxvaluedollarcnt I will fill in with the mode. More reasonable numbers between 50 and 75% of homes.\n",
    "#calculatedfinishedsquarefeet, yearbuilt, and taxamount will fill with mean because it is within the 50 and 75 percentile \n",
    "##and less than half a percent of listed homes."
   ]
  },
  {
   "cell_type": "code",
   "execution_count": null,
   "id": "75f6e826",
   "metadata": {},
   "outputs": [],
   "source": [
    "df.isna().sum()"
   ]
  },
  {
   "cell_type": "code",
   "execution_count": null,
   "id": "95c34e2d",
   "metadata": {},
   "outputs": [],
   "source": [
    "df['bedroomcnt'] = df.bedroomcnt.fillna(value = 3)"
   ]
  },
  {
   "cell_type": "code",
   "execution_count": null,
   "id": "04736e86",
   "metadata": {},
   "outputs": [],
   "source": [
    "df['bathroomcnt'] = df.bathroomcnt.fillna(value = 2)"
   ]
  },
  {
   "cell_type": "code",
   "execution_count": null,
   "id": "107e0761",
   "metadata": {},
   "outputs": [],
   "source": [
    "df['calculatedfinishedsquarefeet'] = df.calculatedfinishedsquarefeet.fillna(value = df['calculatedfinishedsquarefeet'].mean())"
   ]
  },
  {
   "cell_type": "code",
   "execution_count": null,
   "id": "83f28b11",
   "metadata": {},
   "outputs": [],
   "source": [
    "df['taxvaluedollarcnt'] = df.taxvaluedollarcnt.fillna(value = 45000)"
   ]
  },
  {
   "cell_type": "code",
   "execution_count": null,
   "id": "beebe53d",
   "metadata": {},
   "outputs": [],
   "source": [
    "df['yearbuilt'] = df.yearbuilt.fillna(value = 1960)"
   ]
  },
  {
   "cell_type": "code",
   "execution_count": null,
   "id": "85f23a69",
   "metadata": {},
   "outputs": [],
   "source": [
    "df['taxamount'] = df.taxamount.fillna(value = df['taxamount'].mean())"
   ]
  },
  {
   "cell_type": "code",
   "execution_count": null,
   "id": "c31fd465",
   "metadata": {},
   "outputs": [],
   "source": [
    "df.isnull().sum()"
   ]
  },
  {
   "cell_type": "code",
   "execution_count": null,
   "id": "881d6712",
   "metadata": {},
   "outputs": [],
   "source": [
    "df = df.astype('int64')\n",
    "df.head()"
   ]
  },
  {
   "cell_type": "code",
   "execution_count": null,
   "id": "f7e98a86",
   "metadata": {},
   "outputs": [],
   "source": [
    "#How to handle 0 bedroom counts and 0 bathroom counts"
   ]
  },
  {
   "cell_type": "code",
   "execution_count": null,
   "id": "cf9a2fff",
   "metadata": {},
   "outputs": [],
   "source": []
  },
  {
   "cell_type": "code",
   "execution_count": null,
   "id": "fe1ef3f9",
   "metadata": {},
   "outputs": [],
   "source": [
    "df.value_counts('bedroomcnt')"
   ]
  },
  {
   "cell_type": "code",
   "execution_count": null,
   "id": "0fa3f57f",
   "metadata": {},
   "outputs": [],
   "source": [
    "df['zero_bed_baths'] = (((df['bedroomcnt'] == 0) == True) & ((df['bathroomcnt'] == 0) == True))\n",
    "df.head()"
   ]
  },
  {
   "cell_type": "code",
   "execution_count": null,
   "id": "79dc5a61",
   "metadata": {},
   "outputs": [],
   "source": [
    "df.value_counts('zero_bed_baths')"
   ]
  },
  {
   "cell_type": "code",
   "execution_count": null,
   "id": "d5274ba3",
   "metadata": {},
   "outputs": [],
   "source": [
    "df.value_counts('calculatedfinishedsquarefeet')"
   ]
  },
  {
   "cell_type": "code",
   "execution_count": null,
   "id": "e6ddf716",
   "metadata": {},
   "outputs": [],
   "source": [
    "df.value_counts('taxvaluedollarcnt', ascending = True)"
   ]
  },
  {
   "cell_type": "code",
   "execution_count": null,
   "id": "c6a40a29",
   "metadata": {},
   "outputs": [],
   "source": [
    "df.dtypes"
   ]
  },
  {
   "cell_type": "code",
   "execution_count": null,
   "id": "763fe0cd",
   "metadata": {},
   "outputs": [],
   "source": []
  }
 ],
 "metadata": {
  "kernelspec": {
   "display_name": "Python 3",
   "language": "python",
   "name": "python3"
  },
  "language_info": {
   "codemirror_mode": {
    "name": "ipython",
    "version": 3
   },
   "file_extension": ".py",
   "mimetype": "text/x-python",
   "name": "python",
   "nbconvert_exporter": "python",
   "pygments_lexer": "ipython3",
   "version": "3.8.8"
  }
 },
 "nbformat": 4,
 "nbformat_minor": 5
}
